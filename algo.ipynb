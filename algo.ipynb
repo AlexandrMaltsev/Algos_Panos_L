{
 "cells": [
  {
   "cell_type": "markdown",
   "source": [
    "# Differense stock price"
   ],
   "metadata": {}
  },
  {
   "cell_type": "markdown",
   "source": [
    "## Algo 1.1\n",
    "\n",
    "# task\n",
    "разница курсов в текущий день равна\n",
    "разнице дней, между текущим днем и днем котрый был раннее в котором цена акции была больше чем в текущем.\n",
    "если день первый то разница 1\n"
   ],
   "metadata": {}
  },
  {
   "cell_type": "code",
   "execution_count": null,
   "source": [
    "quotes = [7,11,8,6,3,8,9]\n",
    "\n"
   ],
   "outputs": [],
   "metadata": {}
  },
  {
   "cell_type": "code",
   "execution_count": null,
   "source": [
    "def simple_stock_span(input_list):\n",
    "    spans = []\n",
    "    for i in range(len(input_list)):\n",
    "        # в каждую итерацию k и span_end принимают исходное значение \n",
    "        k = 1 # минимальная разница в курсах\n",
    "        span_end = False # конец прохода\n",
    "        while (i-k >= 0) and (not span_end):\n",
    "            if input_list[i-k] <= input_list[i]: # перебираем дни назад увеличивая разницу  k\n",
    "                k=k+1 \n",
    "            else:\n",
    "                span_end = True # объявляем конец цикла потому что достигли конца списка, или дня с большим значением\n",
    "        spans.append(k) # присваеваем накопленный k в список\n",
    "    return spans"
   ],
   "outputs": [],
   "metadata": {}
  },
  {
   "cell_type": "code",
   "execution_count": null,
   "source": [
    "simple_stock_span(quotes)"
   ],
   "outputs": [],
   "metadata": {}
  },
  {
   "cell_type": "markdown",
   "source": [
    "## Algo 1.2.1 (deque like stack)"
   ],
   "metadata": {}
  },
  {
   "cell_type": "code",
   "execution_count": null,
   "source": [
    "def stack_stock_span(quotes_): # вводим массив с n курсами акций\n",
    "    spans = list() # создаем массив для n разниц акций\n",
    "    spans.append(1) # разница в  первый день по умолчанию равна единице\n",
    "    S = list() # создаем пустой стек\n",
    "    S.append(0) # в первый день разница равна нулю операция Push\n",
    "    for i in range(1,len(quotes_)):\n",
    "        while not len(S)==0 and quotes_[S[-1]] <= quotes_[i]:\n",
    "            S.pop()\n",
    "        if len(S)==0:\n",
    "            spans.append(i+1)\n",
    "        else:\n",
    "            spans.append(i-S[-1])\n",
    "        S.append(i)\n",
    "    return spans"
   ],
   "outputs": [],
   "metadata": {}
  },
  {
   "cell_type": "code",
   "execution_count": 1,
   "source": [
    "quotes_ = [7,11,8,6,3,8,9]"
   ],
   "outputs": [],
   "metadata": {}
  },
  {
   "cell_type": "code",
   "execution_count": null,
   "source": [
    "spans = list() # создаем массив для n разниц акций\n",
    "spans.append(1) # разница в  первый день по умолчанию равна единице\n",
    "S = list() # создаем пустой стек\n",
    "S.append(0) # в первый день разница равна нулю операция Push\n",
    "for i in range(1,len(quotes_)):\n",
    "    while not len(S)==0 and quotes_[S[-1]] <= quotes_[i]:\n",
    "        S.pop()\n",
    "    if len(S)==0:\n",
    "        spans.append(i+1)\n",
    "    else:\n",
    "        spans.append(i-S[-1])\n",
    "    S.append(i)"
   ],
   "outputs": [],
   "metadata": {}
  },
  {
   "cell_type": "code",
   "execution_count": null,
   "source": [],
   "outputs": [],
   "metadata": {}
  }
 ],
 "metadata": {
  "orig_nbformat": 4,
  "language_info": {
   "name": "python",
   "version": "3.8.8",
   "mimetype": "text/x-python",
   "codemirror_mode": {
    "name": "ipython",
    "version": 3
   },
   "pygments_lexer": "ipython3",
   "nbconvert_exporter": "python",
   "file_extension": ".py"
  },
  "kernelspec": {
   "name": "python3",
   "display_name": "Python 3.8.8 64-bit ('base': conda)"
  },
  "interpreter": {
   "hash": "69ffea981c2e5e42e3725503546be1e418f2db55d9536d5b2b9cb88c287e883a"
  }
 },
 "nbformat": 4,
 "nbformat_minor": 2
}